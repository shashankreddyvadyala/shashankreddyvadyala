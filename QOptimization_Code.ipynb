{
 "cells": [
  {
   "cell_type": "code",
   "execution_count": 1,
   "id": "23198593",
   "metadata": {},
   "outputs": [],
   "source": [
    "import numpy as np\n",
    "import math as mt\n",
    "import pandas as pd\n",
    "import math\n",
    "import random\n",
    "import qiskit as q\n",
    "from qiskit import IBMQ\n",
    "import matplotlib as mpl\n",
    "import matplotlib.pyplot as plt\n",
    "%matplotlib inline\n",
    "from qiskit.quantum_info import Statevector\n",
    "from qiskit.visualization import *\n",
    "import qiskit.quantum_info as qi\n",
    "from qiskit.circuit import ParameterVector\n",
    "from qiskit.compiler import transpile, assemble\n",
    "from qiskit import QuantumCircuit, transpile, Aer, IBMQ\n",
    "from qiskit.tools.jupyter import *\n",
    "from qiskit.visualization import *\n",
    "from qiskit.tools.visualization import circuit_drawer\n",
    "from qiskit.quantum_info import state_fidelity\n",
    "from qiskit import BasicAer\n",
    "from qiskit import quantum_info\n",
    "from  qiskit.circuit.library import CU3Gate\n",
    "from qiskit.circuit.library import UGate\n",
    "#from ibm_quantum_widgets import *\n",
    "\n",
    "\n",
    "#from qiskit.aqua.algorithms import VQE, NumPyEigensolver\n",
    "from qiskit.circuit.library import EfficientSU2\n",
    "#from qiskit.aqua.operators import WeightedPauliOperator, MatrixOperator\n",
    "#from qiskit.aqua.components.optimizers import SLSQP\n",
    "from qiskit import Aer , transpile, assemble"
   ]
  },
  {
   "cell_type": "code",
   "execution_count": 2,
   "id": "48fcd742",
   "metadata": {},
   "outputs": [
    {
     "data": {
      "text/plain": [
       "'0.20.2'"
      ]
     },
     "execution_count": 2,
     "metadata": {},
     "output_type": "execute_result"
    }
   ],
   "source": [
    "q.__version__"
   ]
  },
  {
   "cell_type": "code",
   "execution_count": 3,
   "id": "c89e0437",
   "metadata": {},
   "outputs": [],
   "source": [
    "from qiskit import IBMQ\n",
    "IBMQ.save_account('d0d8dddef75223e99f5ce3294800b067e878ea80d5616de23a26b741f2aee0a9fb39fdfdf8e7c7f77c42f931c59a12e3ae1d9e0b2bc9d65b256f6bf6f54d6cda',overwrite=True)\n"
   ]
  },
  {
   "cell_type": "markdown",
   "id": "c30e832d",
   "metadata": {},
   "source": [
    "## Function to Build Quantum Circuit"
   ]
  },
  {
   "cell_type": "code",
   "execution_count": 4,
   "id": "178d5228",
   "metadata": {},
   "outputs": [],
   "source": [
    "#The circuit will be initilised wioth zeros and no superposition will be applied hence no H gates\n",
    "def BuildCircuit(locs):\n",
    "    print (\"----------Staring the Process and Allocating Qubits -------------\")\n",
    "    print (\"                                                                 \")\n",
    "    Total_Qubits = locs*(locs - 1)\n",
    "    print (\"Total Qubits allocated is :   \" , Total_Qubits)\n",
    "    qc = q.QuantumCircuit(Total_Qubits)\n",
    "    qc.draw(output=\"mpl\")\n",
    "    #for idx in range(Total_Qubits):\n",
    "    #    qc.h(idx)\n",
    "    #qc.draw(output=\"mpl\")\n",
    "    return qc"
   ]
  },
  {
   "cell_type": "markdown",
   "id": "eccff005",
   "metadata": {},
   "source": [
    "## Define Operators"
   ]
  },
  {
   "cell_type": "code",
   "execution_count": 5,
   "id": "394e3aab",
   "metadata": {},
   "outputs": [],
   "source": [
    "from qiskit.opflow import I, X, Y, Z\n",
    "from qiskit.quantum_info.operators import Operator, Pauli\n",
    "#I=np.array([[1,0],[0,1]])\n",
    "#Z=np.array([[1,0],[0,-1]])\n",
    "\n",
    "#II=np.kron(I,I)\n",
    "#IZ=np.kron(I,Z)\n",
    "#ZI=np.kron(Z,I)\n",
    "#ZZ=np.kron(Z,Z)\n"
   ]
  },
  {
   "cell_type": "code",
   "execution_count": 6,
   "id": "72d3986f",
   "metadata": {},
   "outputs": [],
   "source": [
    "#Function for Defining Coefficient ZZ_{ij}\n",
    "def coff_zz(a,b,qubits):\n",
    "    n=qubits\n",
    "    #a=a-1\n",
    "    j=b\n",
    "    for i in reversed(range(n)):\n",
    "        mar_arr = ['I']*n\n",
    "        #print(mar_arr)\n",
    "        mar_arr[a] = 'Z'\n",
    "        #print(mar_arr)\n",
    "        mar_arr[j]='Z'\n",
    "        #print(mar_arr)\n",
    "        s = \"\"\n",
    "        b = \"\"\n",
    "        for k in range(n -1):\n",
    "             s+= mar_arr[k]+'^'\n",
    "        #print(s)\n",
    "        for l in range(n -1):\n",
    "            b+=')'\n",
    "        final_eq = s+mar_arr[n-1]\n",
    "        print(final_eq)\n",
    "        break\n",
    "    return eval(final_eq)"
   ]
  },
  {
   "cell_type": "code",
   "execution_count": 7,
   "id": "a82fafad",
   "metadata": {},
   "outputs": [],
   "source": [
    "#Function for Defining Coefficient Z_{i}\n",
    "def coff_z(a,qubits):\n",
    "    n=qubits\n",
    "    #a=a-1\n",
    "   \n",
    "    for i in reversed(range(n)):\n",
    "        mar_arr = ['I']*n\n",
    "        #print(mar_arr)\n",
    "        mar_arr[a] = 'Z'\n",
    "        print(mar_arr)\n",
    "        s = \"\"\n",
    "        b = \"\"\n",
    "        for k in range(n -1):\n",
    "             s+= mar_arr[k]+'^'\n",
    "        #print(s)\n",
    "        for l in range(n -1):\n",
    "            b+=')'\n",
    "        final_eq = s+mar_arr[n-1]\n",
    "        print(final_eq)\n",
    "        break\n",
    "    return eval(final_eq)"
   ]
  },
  {
   "cell_type": "code",
   "execution_count": 8,
   "id": "f78b43e1",
   "metadata": {},
   "outputs": [],
   "source": [
    "#Hamiltinian for N qubits\n",
    "\n",
    "def Hamil(n):\n",
    "    \n",
    "    #Hamil = np.zeros((2^n, 2^n))\n",
    "    #print(\"Hamil\",Hamil)\n",
    "    #Term_1 = np.zeros((2**n, 2**n))\n",
    "    Term_1= 0\n",
    "    #Term_1.shape\n",
    "    #Term_2 = np.zeros((2**n, 2**n))\n",
    "    Term_2 = 0\n",
    "    for i   in  reversed(range(n)):\n",
    "        for j in reversed(range(i)):\n",
    "            \n",
    "            #Term_1 = + nw*coff_zz(i,j,n)\n",
    "            #print(\"term_1=\",Term_1 )\n",
    "            #print(Term_1.shape)\n",
    "           #print(nw*coff_zz(i,j,n).shape)\n",
    "            Term_1 += nw*coff_zz(i,j,n)\n",
    "        Term_2 += nw*coff_z(i,n)\n",
    "        #Term_2.shape\n",
    "        #print(\"term_2=\",Term_2 )\n",
    "    Hamil = -(Term_1+Term_2)\n",
    "        #Hamil += Hamil\n",
    "    print(\"-------------------------------------\")\n",
    "    print(\"Hamil\",Hamil)\n",
    "    return Hamil\n",
    "            "
   ]
  },
  {
   "cell_type": "code",
   "execution_count": 9,
   "id": "ada6d457",
   "metadata": {},
   "outputs": [
    {
     "name": "stdout",
     "output_type": "stream",
     "text": [
      "['I', 'I', 'I', 'I', 'I', 'Z']\n",
      "I^I^I^I^I^Z\n"
     ]
    },
    {
     "data": {
      "text/plain": [
       "PauliOp(Pauli('IIIIIZ'), coeff=1.0)"
      ]
     },
     "execution_count": 9,
     "metadata": {},
     "output_type": "execute_result"
    }
   ],
   "source": [
    "coff_z(5,6)"
   ]
  },
  {
   "cell_type": "code",
   "execution_count": 10,
   "id": "5f5d1b9c",
   "metadata": {},
   "outputs": [
    {
     "name": "stdout",
     "output_type": "stream",
     "text": [
      "Node waight is -  0.8421115487463554\n",
      "                       \n",
      "Endge waight is -  0.6647028271173109\n",
      "I^I^I^I^Z^Z\n",
      "I^I^I^Z^I^Z\n",
      "I^I^Z^I^I^Z\n",
      "I^Z^I^I^I^Z\n",
      "Z^I^I^I^I^Z\n",
      "['I', 'I', 'I', 'I', 'I', 'Z']\n",
      "I^I^I^I^I^Z\n",
      "I^I^I^Z^Z^I\n",
      "I^I^Z^I^Z^I\n",
      "I^Z^I^I^Z^I\n",
      "Z^I^I^I^Z^I\n",
      "['I', 'I', 'I', 'I', 'Z', 'I']\n",
      "I^I^I^I^Z^I\n",
      "I^I^Z^Z^I^I\n",
      "I^Z^I^Z^I^I\n",
      "Z^I^I^Z^I^I\n",
      "['I', 'I', 'I', 'Z', 'I', 'I']\n",
      "I^I^I^Z^I^I\n",
      "I^Z^Z^I^I^I\n",
      "Z^I^Z^I^I^I\n",
      "['I', 'I', 'Z', 'I', 'I', 'I']\n",
      "I^I^Z^I^I^I\n",
      "Z^Z^I^I^I^I\n",
      "['I', 'Z', 'I', 'I', 'I', 'I']\n",
      "I^Z^I^I^I^I\n",
      "['Z', 'I', 'I', 'I', 'I', 'I']\n",
      "Z^I^I^I^I^I\n",
      "-------------------------------------\n",
      "Hamil -0.8421115487463554 * IIIIZZ\n",
      "- 0.8421115487463554 * IIIZIZ\n",
      "- 0.8421115487463554 * IIZIIZ\n",
      "- 0.8421115487463554 * IZIIIZ\n",
      "- 0.8421115487463554 * ZIIIIZ\n",
      "- 0.8421115487463554 * IIIZZI\n",
      "- 0.8421115487463554 * IIZIZI\n",
      "- 0.8421115487463554 * IZIIZI\n",
      "- 0.8421115487463554 * ZIIIZI\n",
      "- 0.8421115487463554 * IIZZII\n",
      "- 0.8421115487463554 * IZIZII\n",
      "- 0.8421115487463554 * ZIIZII\n",
      "- 0.8421115487463554 * IZZIII\n",
      "- 0.8421115487463554 * ZIZIII\n",
      "- 0.8421115487463554 * ZZIIII\n",
      "- 0.8421115487463554 * IIIIIZ\n",
      "- 0.8421115487463554 * IIIIZI\n",
      "- 0.8421115487463554 * IIIZII\n",
      "- 0.8421115487463554 * IIZIII\n",
      "- 0.8421115487463554 * IZIIII\n",
      "- 0.8421115487463554 * ZIIIII\n"
     ]
    }
   ],
   "source": [
    "#nw = random.uniform(0,1)\n",
    "nw = 0.8421115487463554\n",
    "print(\"Node waight is - \", nw)\n",
    "print(\"                       \")\n",
    "#ew = random.uniform(0,1)\n",
    "ew = 0.6647028271173109\n",
    "print(\"Endge waight is - \", ew)\n",
    "H = Hamil(6)"
   ]
  },
  {
   "cell_type": "code",
   "execution_count": 11,
   "id": "cb8313be",
   "metadata": {},
   "outputs": [
    {
     "name": "stdout",
     "output_type": "stream",
     "text": [
      "---------------------------\n",
      "<class 'qiskit.opflow.primitive_ops.pauli_op.PauliOp'>\n",
      "---------------------------\n",
      "<class 'qiskit.opflow.primitive_ops.pauli_sum_op.PauliSumOp'>\n"
     ]
    }
   ],
   "source": [
    "from qiskit.opflow.primitive_ops import PauliOp\n",
    "#H_pauli= PauliOp.to_pauli_op(H_op)\n",
    "#print(type(H_pauli))\n",
    "print(\"---------------------------\")\n",
    "print(type(I))\n",
    "print(\"---------------------------\")\n",
    "print(type(H))"
   ]
  },
  {
   "cell_type": "code",
   "execution_count": 12,
   "id": "3ecbbb4a",
   "metadata": {},
   "outputs": [],
   "source": [
    "import itertools\n",
    "def generate_comb_pairs(n):\n",
    "    comb=[]\n",
    "    for i in range(n):\n",
    "        comb += itertools.combinations(range(n),i+1)\n",
    "    \n",
    "    comb_list = [ list(t) for t in comb ]\n",
    "    return comb_list"
   ]
  },
  {
   "cell_type": "code",
   "execution_count": 13,
   "id": "7f44f365",
   "metadata": {},
   "outputs": [],
   "source": [
    "def build_encoding_circuit_rev(n,layer,param1):\n",
    "    \n",
    "    for i in reversed(range(n)):\n",
    "        #print(\"i=\",i)\n",
    "    \n",
    "        t_list = list(range(i+1))\n",
    "       \n",
    "        if i == 0:\n",
    "            comb_pairs = generate_comb_pairs(i+1)\n",
    "            #print(comb_pairs)\n",
    "            t_list = list(range(i+1))\n",
    "            #print(t_list)\n",
    "            UG= UGate(-2*nw*param1[layer],0,0)\n",
    "            qc.append(UG,t_list)\n",
    "    #if i == 1:\n",
    "        \n",
    "        #for k in range(0,i):\n",
    "           # qc.x(k)\n",
    "        #qc.append(UG,t_list)\n",
    "        #for k in range(0,i):\n",
    "            #qc.x(k)\n",
    "        #qc.barrier()\n",
    "        if i == 1: \n",
    "            comb_pairs = generate_comb_pairs(i)\n",
    "            #print(comb_pairs)\n",
    "            #print(\"Creating firts gate , then anticontrols will follow.................\")\n",
    "            #UG= UGate(0,math.pi/2,-math.pi/2).control(i)\n",
    "            #UG= UGate(-2*nw*param1[layer],0,0).control(i)\n",
    "            CUG = CU3Gate(-2*nw*param1[layer],0,0)\n",
    "            qc.append(CUG,t_list)\n",
    "            for sublist in comb_pairs:\n",
    "                #print(sublist)\n",
    "                for index in sublist:\n",
    "                    #print(index)\n",
    "                    qc.x(index)\n",
    "            #UG= UGate(0,math.pi/2,-math.pi/2).control(i)\n",
    "            CUG = CU3Gate(-2*nw*param1[layer],0,0)\n",
    "            qc.append(CUG,t_list)\n",
    "            for sublist1 in comb_pairs:\n",
    "                for index1 in sublist1:\n",
    "                    qc.x(index1)\n",
    "            qc.barrier()\n",
    "        if i > 1: \n",
    "            comb_pairs = generate_comb_pairs(i)\n",
    "            #print(comb_pairs)\n",
    "        #t_list = comb_pairs[-1]\n",
    "            #print(\"Creating firts gate , then anticontrols will follow.................\")\n",
    "            #UG= UGate(0,math.pi/2,-math.pi/2).control(i)\n",
    "            UG= UGate(-2*nw*param1[layer],0,0).control(i)\n",
    "            qc.append(UG,t_list)\n",
    "            for sublist in comb_pairs:\n",
    "                #print(sublist)\n",
    "                for index in sublist:\n",
    "                    #print(\"Adding Xgate at\", index )\n",
    "                    qc.x(index)\n",
    "               #print(\"Adding u Gate\")\n",
    "                #UG= UGate(0,math.pi/2,-math.pi/2).control(i)\n",
    "                UG= UGate(-2*nw*param1[layer],0,0).control(i)\n",
    "                qc.append(UG,t_list)\n",
    "                for index1 in sublist:\n",
    "                    #print(\"Adding Xgate at\", index1)\n",
    "                    qc.x(index1)\n",
    "                qc.barrier()    \n",
    "        qc.barrier()\n",
    "        qc.barrier()\n",
    "    \n",
    "        "
   ]
  },
  {
   "cell_type": "code",
   "execution_count": 14,
   "id": "107b0e46",
   "metadata": {},
   "outputs": [],
   "source": [
    "def build_encoding_circuit(n,layer,param1):\n",
    "    \n",
    "    for i in range(n):\n",
    "        #print(\"i=\",i)\n",
    "    \n",
    "        t_list = list(range(i+1))\n",
    "       \n",
    "        if i == 0:\n",
    "            comb_pairs = generate_comb_pairs(i+1)\n",
    "            #print(comb_pairs)\n",
    "            t_list = list(range(i+1))\n",
    "            #print(t_list)\n",
    "            UG= UGate(-2*nw*param1[layer],0,0)\n",
    "            qc.append(UG,t_list)\n",
    "    #if i == 1:\n",
    "        \n",
    "        #for k in range(0,i):\n",
    "           # qc.x(k)\n",
    "        #qc.append(UG,t_list)\n",
    "        #for k in range(0,i):\n",
    "            #qc.x(k)\n",
    "        #qc.barrier()\n",
    "        if i == 1: \n",
    "            comb_pairs = generate_comb_pairs(i)\n",
    "            #print(comb_pairs)\n",
    "        #t_list = comb_pairs[-1]\n",
    "            #print(\"Creating firts gate , then anticontrols will follow.................\")\n",
    "            #UG= UGate(0,math.pi/2,-math.pi/2).control(i)\n",
    "            CUG = CU3Gate(-2*nw*param1[layer],0,0)\n",
    "            qc.append(CUG,t_list)\n",
    "            for sublist in comb_pairs:\n",
    "                #print(sublist)\n",
    "                for index in sublist:\n",
    "                    #print(index)\n",
    "                    qc.x(index)\n",
    "            #UG= UGate(0,math.pi/2,-math.pi/2).control(i)\n",
    "            CUG = CU3Gate(-2*nw*param1[layer],0,0)\n",
    "            qc.append(CUG,t_list)\n",
    "            for sublist1 in comb_pairs:\n",
    "                for index1 in sublist1:\n",
    "                    qc.x(index1)\n",
    "            qc.barrier()\n",
    "        if i > 1: \n",
    "            comb_pairs = generate_comb_pairs(i)\n",
    "            #print(comb_pairs)\n",
    "        #t_list = comb_pairs[-1]\n",
    "            #print(\"Creating firts gate , then anticontrols will follow.................\")\n",
    "            #UG= UGate(0,math.pi/2,-math.pi/2).control(i)\n",
    "            UG= UGate(-2*nw*param1[layer],0,0).control(i)\n",
    "            qc.append(UG,t_list)\n",
    "            for sublist in comb_pairs:\n",
    "                #print(sublist)\n",
    "                for index in sublist:\n",
    "                    #print(\"Adding Xgate at\", index )\n",
    "                    qc.x(index)\n",
    "                #print(\"Adding u Gate\")\n",
    "                #UG= UGate(0,math.pi/2,-math.pi/2).control(i)\n",
    "                UG= UGate(-2*nw*param1[layer],0,0).control(i)\n",
    "                qc.append(UG,t_list)\n",
    "                for index1 in sublist:\n",
    "                    #print(\"Adding Xgate at\", index1)\n",
    "                    qc.x(index1)\n",
    "                qc.barrier()    \n",
    "        qc.barrier()\n",
    "        qc.barrier()"
   ]
  },
  {
   "cell_type": "code",
   "execution_count": 15,
   "id": "0ad2e7a5",
   "metadata": {},
   "outputs": [],
   "source": [
    "def u3_ansatz2(qc,n,layers,param1=[]):\n",
    "# Parameters    qc     : quantum circuit   \n",
    "#               n      : number of qubits    \n",
    "# layers               : number of layers of ansatz    \n",
    "# Returns       qc     : modified quantum circuit    '''\n",
    " \n",
    "    if  len(param1)== 0 or len(param2)==0 or len(param3)==0 :\n",
    "            param1=ParameterVector('x',length=(layers)*n*3)#u3 has 3 parameters so layers*qubits*u3params\n",
    "            #param1=ParameterVector('x',length=(layers))\n",
    "            #param2=ParameterVector('y',length=(layers))\n",
    "            #param3=ParameterVector('a',length=(layers))\n",
    "           \n",
    "    for layer in range(layers):\n",
    "        \n",
    "        build_encoding_circuit(n,layer,param1)\n",
    "\n",
    "        for i   in  reversed(range(n)):\n",
    "            for j in reversed(range(i)):\n",
    "                #print(\"i=\",i)\n",
    "                #print(\"j=\",j)\n",
    "                qc.cx(i,j)\n",
    "                qc.u(-2*nw*param1[layer],0,0,j)\n",
    "                #qc.u(0,-2*ZZ_65*param1[layer],0,j)\n",
    "                qc.cx(i,j)\n",
    "                qc.barrier()\n",
    "        for i   in  reversed(range(n)): \n",
    "            qc.u(-2*ew*param1[layer],0,0,i)\n",
    "        qc.barrier()\n",
    "\n",
    "        build_encoding_circuit_rev(n,layer,param1)\n",
    "    return qc"
   ]
  },
  {
   "cell_type": "code",
   "execution_count": 16,
   "id": "ad736de1",
   "metadata": {},
   "outputs": [],
   "source": [
    "from qiskit.algorithms.optimizers import COBYLA, L_BFGS_B, SPSA, SLSQP\n",
    "\n",
    "optimizer_type = 'COBYLA'\n",
    "\n",
    "if optimizer_type == 'COBYLA':\n",
    "    optimizer = COBYLA(maxiter=1000)\n",
    "elif optimizer_type == 'L_BFGS_B':\n",
    "    optimizer = L_BFGS_B(maxfun=500)\n",
    "elif optimizer_type == 'SPSA':\n",
    "    optimizer = SPSA(maxiter=500)\n",
    "elif optimizer_type == 'SLSQP':\n",
    "    optimizer = SLSQP(maxiter=500)"
   ]
  },
  {
   "cell_type": "code",
   "execution_count": 17,
   "id": "315b0305",
   "metadata": {},
   "outputs": [
    {
     "name": "stdout",
     "output_type": "stream",
     "text": [
      "----------Staring the Process and Allocating Qubits -------------\n",
      "                                                                 \n",
      "Total Qubits allocated is :    6\n"
     ]
    }
   ],
   "source": [
    "locs = 3\n",
    "n = locs*(locs -1)\n",
    "qc = BuildCircuit(locs)\n",
    "qc = u3_ansatz2(qc,6,1)"
   ]
  },
  {
   "cell_type": "code",
   "execution_count": 18,
   "id": "47931cc5",
   "metadata": {},
   "outputs": [],
   "source": [
    "intermediate_info = {\"nfev\": [], \"parameters\": [], \"energy\": [], \"stddev\": []}\n",
    "\n",
    "\n",
    "def callback(nfev, parameters, energy, stddev):\n",
    "    intermediate_info[\"nfev\"].append(nfev)\n",
    "    intermediate_info[\"parameters\"].append(parameters)\n",
    "    intermediate_info[\"energy\"].append(energy)\n",
    "    intermediate_info[\"stddev\"].append(stddev)"
   ]
  },
  {
   "cell_type": "code",
   "execution_count": 19,
   "id": "2961ca67",
   "metadata": {},
   "outputs": [
    {
     "name": "stdout",
     "output_type": "stream",
     "text": [
      "Node waight is -  0.8421115487463554\n",
      "                       \n",
      "Endge waight is -  0.6647028271173109\n"
     ]
    }
   ],
   "source": [
    "#nw = random.uniform(0,1)\n",
    "nw = 0.8421115487463554\n",
    "print(\"Node waight is - \", nw)\n",
    "print(\"                       \")\n",
    "#ew = random.uniform(0,1)\n",
    "ew = 0.6647028271173109\n",
    "print(\"Endge waight is - \", ew)"
   ]
  },
  {
   "cell_type": "code",
   "execution_count": 20,
   "id": "3c0f9c31",
   "metadata": {},
   "outputs": [],
   "source": [
    "from qiskit.circuit.library import UGate\n",
    "from qiskit.algorithms import VQE\n",
    "from qiskit.providers.basicaer import QasmSimulatorPy\n",
    "from qiskit import Aer\n",
    "from qiskit.opflow import X, Z, I\n",
    "from qiskit.utils import QuantumInstance, algorithm_globals\n",
    "from qiskit.algorithms import VQE\n",
    "from qiskit.algorithms.optimizers import SLSQP\n",
    "from qiskit.circuit.library import TwoLocal\n",
    "from qiskit.providers.aer import QasmSimulator\n",
    "#backend = Aer.get_backend('qasm_simulator')\n",
    "#backend = Aer.get_backend('qasm_simulator')\n",
    "\n",
    "#Details\n",
    "\n",
    "#VQE.initial_point = None\n",
    "#vqe = VQE(H_op, qc, optimizer)\n",
    "#vqe_result = vqe.run(backend)\n",
    "\n",
    "\n",
    "\n",
    "#np.random.seed(10)  # seed for reproducibility\n",
    "#initial_point = np.random.random(qc.num_parameters)\n",
    "\n",
    "#backend = Aer.get_backend('statevector_simulator')\n",
    "#qinstance = QuantumInstance(backend, seed_simulator=2, seed_transpiler=2)\n",
    "\n",
    "seed = np.random.seed(10)\n",
    "algorithm_globals.random_seed = seed\n",
    "#qi = QuantumInstance(Aer.get_backend('statevector_simulator'), seed_transpiler=seed, seed_simulator=seed)\n",
    "qi =QuantumInstance(QasmSimulator(), shots=1,seed_simulator=seed)\n",
    "\n",
    "slsqp = SLSQP(maxiter=1000)\n",
    "vqe = VQE(qc, optimizer=optimizer, quantum_instance=qi)\n",
    "\n",
    "#local_vqe = VQE(\n",
    "#    ansatz= qc,\n",
    "#    optimizer=optimizer,\n",
    "#    initial_point= None,\n",
    "#    quantum_instance=qi,\n",
    "#    callback=callback,\n",
    "#)"
   ]
  },
  {
   "cell_type": "code",
   "execution_count": 21,
   "id": "d7aaf7ad",
   "metadata": {},
   "outputs": [],
   "source": [
    "# qc.draw(output='mpl')"
   ]
  },
  {
   "cell_type": "code",
   "execution_count": 22,
   "id": "8e490d3e",
   "metadata": {},
   "outputs": [
    {
     "data": {
      "text/plain": [
       "6"
      ]
     },
     "execution_count": 22,
     "metadata": {},
     "output_type": "execute_result"
    }
   ],
   "source": [
    "qc.num_qubits"
   ]
  },
  {
   "cell_type": "code",
   "execution_count": 23,
   "id": "8f07fe91",
   "metadata": {},
   "outputs": [],
   "source": [
    "# H.num_qubits"
   ]
  },
  {
   "cell_type": "code",
   "execution_count": 24,
   "id": "3bde83f2",
   "metadata": {},
   "outputs": [
    {
     "name": "stdout",
     "output_type": "stream",
     "text": [
      "{   'aux_operator_eigenvalues': None,\n",
      "    'cost_function_evals': 12,\n",
      "    'eigenstate': {'000100': 1.0},\n",
      "    'eigenvalue': (-17.684342523673468+0j),\n",
      "    'optimal_parameters': {ParameterVectorElement(x[0]): 0.060756422948185396},\n",
      "    'optimal_point': array([0.06075642]),\n",
      "    'optimal_value': -17.684342523673468,\n",
      "    'optimizer_evals': None,\n",
      "    'optimizer_time': 7.287761211395264}\n"
     ]
    }
   ],
   "source": [
    "local_result = vqe.compute_minimum_eigenvalue(H)\n",
    "print(local_result)"
   ]
  },
  {
   "cell_type": "code",
   "execution_count": 25,
   "id": "e868e084",
   "metadata": {},
   "outputs": [
    {
     "data": {
      "text/plain": [
       "<qiskit.algorithms.minimum_eigen_solvers.minimum_eigen_solver.MinimumEigensolverResult at 0x7f8452f4c730>"
      ]
     },
     "execution_count": 25,
     "metadata": {},
     "output_type": "execute_result"
    }
   ],
   "source": [
    "from qiskit.algorithms import NumPyMinimumEigensolver\n",
    "mes = NumPyMinimumEigensolver()\n",
    "mes.compute_minimum_eigenvalue(H)"
   ]
  },
  {
   "cell_type": "code",
   "execution_count": 26,
   "id": "c5552677",
   "metadata": {},
   "outputs": [
    {
     "name": "stdout",
     "output_type": "stream",
     "text": [
      "{   'aux_operator_eigenvalues': None,\n",
      "    'eigenstate': VectorStateFn(Statevector([1.+0.j, 0.+0.j, 0.+0.j, 0.+0.j, 0.+0.j, 0.+0.j, 0.+0.j,\n",
      "             0.+0.j, 0.+0.j, 0.+0.j, 0.+0.j, 0.+0.j, 0.+0.j, 0.+0.j,\n",
      "             0.+0.j, 0.+0.j, 0.+0.j, 0.+0.j, 0.+0.j, 0.+0.j, 0.+0.j,\n",
      "             0.+0.j, 0.+0.j, 0.+0.j, 0.+0.j, 0.+0.j, 0.+0.j, 0.+0.j,\n",
      "             0.+0.j, 0.+0.j, 0.+0.j, 0.+0.j, 0.+0.j, 0.+0.j, 0.+0.j,\n",
      "             0.+0.j, 0.+0.j, 0.+0.j, 0.+0.j, 0.+0.j, 0.+0.j, 0.+0.j,\n",
      "             0.+0.j, 0.+0.j, 0.+0.j, 0.+0.j, 0.+0.j, 0.+0.j, 0.+0.j,\n",
      "             0.+0.j, 0.+0.j, 0.+0.j, 0.+0.j, 0.+0.j, 0.+0.j, 0.+0.j,\n",
      "             0.+0.j, 0.+0.j, 0.+0.j, 0.+0.j, 0.+0.j, 0.+0.j, 0.+0.j,\n",
      "             0.+0.j],\n",
      "            dims=(2, 2, 2, 2, 2, 2)), coeff=1.0, is_measurement=False),\n",
      "    'eigenvalue': (-17.684342523673468+0j)}\n"
     ]
    }
   ],
   "source": [
    "print(mes.compute_minimum_eigenvalue(H))"
   ]
  },
  {
   "cell_type": "code",
   "execution_count": null,
   "id": "b29f404e",
   "metadata": {},
   "outputs": [],
   "source": []
  }
 ],
 "metadata": {
  "kernelspec": {
   "display_name": "Python 3 (ipykernel)",
   "language": "python",
   "name": "python3"
  },
  "language_info": {
   "codemirror_mode": {
    "name": "ipython",
    "version": 3
   },
   "file_extension": ".py",
   "mimetype": "text/x-python",
   "name": "python",
   "nbconvert_exporter": "python",
   "pygments_lexer": "ipython3",
   "version": "3.9.12"
  }
 },
 "nbformat": 4,
 "nbformat_minor": 5
}
