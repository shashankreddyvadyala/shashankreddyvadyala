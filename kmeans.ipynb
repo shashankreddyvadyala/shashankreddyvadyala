{
 "cells": [
  {
   "cell_type": "code",
   "execution_count": 38,
   "id": "f43dc647-cda5-414a-bed4-522e408125e3",
   "metadata": {},
   "outputs": [],
   "source": [
    "import pandas as pd\n",
    "import numpy as np\n",
    "import math\n",
    "from google.cloud import bigquery,storage\n",
    "import datetime\n",
    "import time\n",
    "import gc\n",
    "from sklearn.datasets import make_blobs\n",
    "from sklearn.cluster import KMeans,DBSCAN\n",
    "from sklearn.metrics import silhouette_score \n",
    "from sklearn.preprocessing import StandardScaler\n",
    "import matplotlib.pyplot as plt\n",
    "from sklearn.tree import _tree, DecisionTreeClassifier\n",
    "import joblib"
   ]
  },
  {
   "cell_type": "markdown",
   "id": "f8d6c210-da68-463d-a303-595d17913d55",
   "metadata": {
    "id": "qzy_w8-0zrFl"
   },
   "source": [
    "## Config"
   ]
  },
  {
   "cell_type": "code",
   "execution_count": 64,
   "id": "8080844f-1876-433c-8423-ca8c8b7a1e3c",
   "metadata": {
    "id": "l8LENt5-zqT_"
   },
   "outputs": [],
   "source": [
    "PROJECT_NAME='cdp-dev-bdfa'\n",
    "CLTV_PREDICTIONS_TABLE='curated.t_mdl_cltv_predictions'\n",
    "PREDICTIONS_TABLE='curated.t_mdl_kmeans_predictions'\n",
    "CHECKPOINTS_TABLE='curated.t_mdl_kmeans_checkpoints'\n",
    "\n",
    "client = bigquery.Client(project=PROJECT_NAME)"
   ]
  },
  {
   "cell_type": "markdown",
   "id": "c7d621c5-ec99-4fa8-870c-d76e7ddbf1c7",
   "metadata": {
    "id": "RMmvcQl1lUpU"
   },
   "source": [
    "## Loading the data from big query"
   ]
  },
  {
   "cell_type": "code",
   "execution_count": 65,
   "id": "d46d2306-583d-42e9-b09a-5b0a48152299",
   "metadata": {
    "id": "q_L59uDtGQll"
   },
   "outputs": [
    {
     "data": {
      "text/html": [
       "<div>\n",
       "<style scoped>\n",
       "    .dataframe tbody tr th:only-of-type {\n",
       "        vertical-align: middle;\n",
       "    }\n",
       "\n",
       "    .dataframe tbody tr th {\n",
       "        vertical-align: top;\n",
       "    }\n",
       "\n",
       "    .dataframe thead th {\n",
       "        text-align: right;\n",
       "    }\n",
       "</style>\n",
       "<table border=\"1\" class=\"dataframe\">\n",
       "  <thead>\n",
       "    <tr style=\"text-align: right;\">\n",
       "      <th></th>\n",
       "      <th>ALIVE_PROB</th>\n",
       "      <th>FUTURE_12MO_PURCHASE</th>\n",
       "      <th>SEGMENTS</th>\n",
       "    </tr>\n",
       "  </thead>\n",
       "  <tbody>\n",
       "    <tr>\n",
       "      <th>0</th>\n",
       "      <td>0.00</td>\n",
       "      <td>0.00</td>\n",
       "      <td>28762</td>\n",
       "    </tr>\n",
       "    <tr>\n",
       "      <th>1</th>\n",
       "      <td>0.01</td>\n",
       "      <td>0.00</td>\n",
       "      <td>789</td>\n",
       "    </tr>\n",
       "    <tr>\n",
       "      <th>2</th>\n",
       "      <td>0.11</td>\n",
       "      <td>0.09</td>\n",
       "      <td>208</td>\n",
       "    </tr>\n",
       "    <tr>\n",
       "      <th>3</th>\n",
       "      <td>0.07</td>\n",
       "      <td>0.09</td>\n",
       "      <td>181</td>\n",
       "    </tr>\n",
       "    <tr>\n",
       "      <th>4</th>\n",
       "      <td>0.05</td>\n",
       "      <td>0.09</td>\n",
       "      <td>172</td>\n",
       "    </tr>\n",
       "  </tbody>\n",
       "</table>\n",
       "</div>"
      ],
      "text/plain": [
       "   ALIVE_PROB  FUTURE_12MO_PURCHASE  SEGMENTS\n",
       "0        0.00                  0.00     28762\n",
       "1        0.01                  0.00       789\n",
       "2        0.11                  0.09       208\n",
       "3        0.07                  0.09       181\n",
       "4        0.05                  0.09       172"
      ]
     },
     "execution_count": 65,
     "metadata": {},
     "output_type": "execute_result"
    }
   ],
   "source": [
    "sql_query = (f\"\"\"SELECT ALIVE_PROB,FUTURE_12MO_PURCHASE,Count(CUSTOMER_ID) as SEGMENTS FROM `{CLTV_PREDICTIONS_TABLE}` GROUP BY ALIVE_PROB,FUTURE_12MO_PURCHASE\"\"\")\n",
    "df = client.query(sql_query).to_dataframe()\n",
    "df.head()"
   ]
  },
  {
   "cell_type": "markdown",
   "id": "95cc1bd4-cef9-492b-9839-fa9a8d4d21d8",
   "metadata": {
    "tags": []
   },
   "source": [
    "# Feature Scaling\n",
    "\n",
    "#### Selected Features\n",
    "\n",
    "- alive_prob \n",
    "- future_12m_purchase"
   ]
  },
  {
   "cell_type": "code",
   "execution_count": 66,
   "id": "58006d48-2be5-4b07-b512-241d594301a2",
   "metadata": {},
   "outputs": [],
   "source": [
    "selected_feature=['ALIVE_PROB','FUTURE_12MO_PURCHASE']\n",
    "features=df.loc[:,selected_feature]\n",
    "scaler = StandardScaler()\n",
    "scaled_features = scaler.fit_transform(features)"
   ]
  },
  {
   "cell_type": "markdown",
   "id": "ff93a864-f760-4589-8f1f-7725b0addd24",
   "metadata": {},
   "source": [
    "# Kmeans Model"
   ]
  },
  {
   "cell_type": "code",
   "execution_count": 67,
   "id": "3ec9ec87-8e08-43e1-b929-16815a93b8b6",
   "metadata": {},
   "outputs": [],
   "source": [
    "#Kmeans params\n",
    "kmeans_kwargs = {\n",
    "     \"init\": \"random\",\n",
    "     \"n_init\": 10,\n",
    "     \"max_iter\": 300,\n",
    "    \"random_state\": 42,\n",
    "}\n",
    "\n",
    "# A list holds the silhouette coefficients for each k\n",
    "silhouette_coefficients = []\n",
    "# Notice you start at 2 clusters for silhouette coefficient\n",
    "for k in range(2, 11):\n",
    "    kmeans = KMeans(n_clusters=k, **kmeans_kwargs)\n",
    "    kmeans.fit(scaled_features,sample_weight=df['SEGMENTS'])\n",
    "    score = silhouette_score(scaled_features, kmeans.labels_)\n",
    "    silhouette_coefficients.append(score)"
   ]
  },
  {
   "cell_type": "code",
   "execution_count": 68,
   "id": "6e0725bf-1ec0-493e-8467-086938c31754",
   "metadata": {},
   "outputs": [
    {
     "data": {
      "image/png": "[encoded data removed]",
      "text/plain": [
       "<Figure size 432x288 with 1 Axes>"
      ]
     },
     "metadata": {},
     "output_type": "display_data"
    }
   ],
   "source": [
    "plt.style.use(\"fivethirtyeight\")\n",
    "plt.plot(range(2, 11), silhouette_coefficients)\n",
    "plt.xticks(range(2, 11))\n",
    "plt.xlabel(\"Number of Clusters\")\n",
    "plt.ylabel(\"Silhouette Coefficient\")\n",
    "plt.show()"
   ]
  },
  {
   "cell_type": "code",
   "execution_count": 69,
   "id": "9f15bf03-aa3e-40f4-8703-d3241122f7fa",
   "metadata": {},
   "outputs": [
    {
     "data": {
      "text/plain": [
       "'optimal Number of Cluster:2, Score:0.4'"
      ]
     },
     "execution_count": 69,
     "metadata": {},
     "output_type": "execute_result"
    }
   ],
   "source": [
    "number_cluster=np.argmax(silhouette_coefficients)+2\n",
    "kmeans = KMeans(n_clusters=3, **kmeans_kwargs)\n",
    "kmeans_cluster=kmeans.fit_predict(scaled_features,sample_weight=df['SEGMENTS'])\n",
    "score = silhouette_score(scaled_features, kmeans.labels_).round (2)\n",
    "f\"optimal Number of Cluster:{number_cluster}, Score:{score}\""
   ]
  },
  {
   "cell_type": "markdown",
   "id": "ec4e6af8-1dc2-4a8e-b691-c380ad466fc5",
   "metadata": {},
   "source": [
    "## Inteperting Clustering Results"
   ]
  },
  {
   "cell_type": "code",
   "execution_count": 82,
   "id": "e1319ab0-f1ca-42b6-9054-1e2e1cf2a8f0",
   "metadata": {},
   "outputs": [],
   "source": [
    "def get_class_rules(tree: DecisionTreeClassifier, feature_names: list):\n",
    "    inner_tree: _tree.Tree = tree.tree_\n",
    "    classes = tree.classes_\n",
    "    class_rules_dict = dict()\n",
    "\n",
    "    def tree_dfs(node_id=0, current_rule=[]):\n",
    "        # feature[i] holds the feature to split on, for the internal node i.\n",
    "        split_feature = inner_tree.feature[node_id]\n",
    "        if split_feature != _tree.TREE_UNDEFINED: # internal node\n",
    "            name = feature_names[split_feature]\n",
    "            threshold = inner_tree.threshold[node_id]\n",
    "            # left child\n",
    "            left_rule = current_rule + [{name+\"_RULE\":f\"<= {threshold}\"}]\n",
    "            tree_dfs(inner_tree.children_left[node_id], left_rule)\n",
    "            # right child\n",
    "            right_rule = current_rule + [{name+\"_RULE\":f\"> {threshold}\"}]\n",
    "            tree_dfs(inner_tree.children_right[node_id], right_rule)\n",
    "        else: # leaf\n",
    "            dist = inner_tree.value[node_id][0]\n",
    "            dist = dist/dist.sum()\n",
    "            max_idx = dist.argmax()\n",
    "            if len(current_rule) == 0:\n",
    "                rule_string = [\"ALL\"]\n",
    "            else:\n",
    "                rule_string = current_rule\n",
    "            # register new rule to dictionary\n",
    "            selected_class = classes[max_idx]\n",
    "            class_probability = dist[max_idx]\n",
    "            class_rules = class_rules_dict.get(selected_class, [])\n",
    "            class_rules.append(rule_string+ [{\"concentration\":class_probability}])\n",
    "            class_rules_dict[selected_class] = class_rules\n",
    "    \n",
    "    tree_dfs() # start from root, node_id = 0\n",
    "    return class_rules_dict\n",
    "\n",
    "def cluster_report(data: pd.DataFrame, clusters, min_samples_leaf=50, pruning_level=0.01):\n",
    "    # Create Model\n",
    "    tree = DecisionTreeClassifier(min_samples_leaf=min_samples_leaf, ccp_alpha=pruning_level)\n",
    "    tree.fit(data, clusters)\n",
    "    \n",
    "    # Generate Report\n",
    "    feature_names = data.columns\n",
    "    class_rule_dict = get_class_rules(tree, feature_names)\n",
    "    rules_df = pd.DataFrame(columns=features.columns.to_series().add_suffix('_RULE').index.tolist()+['concentration','cluster_id'])\n",
    "    report_class_list=[]\n",
    "    for class_name in class_rule_dict.keys():\n",
    "        rule_list = class_rule_dict[class_name]\n",
    "        combined_string = \"\"\n",
    "        temp={}\n",
    "        for rule in rule_list:\n",
    "            for value_ in rule:\n",
    "                if value_!='ALL':\n",
    "                    temp.update(value_)\n",
    "            temp['cluster_id']=class_name\n",
    "            rules_df=pd.concat([rules_df,pd.DataFrame([temp])])\n",
    "        \n",
    "    cluster_instance_df = pd.Series(clusters).value_counts().reset_index()\n",
    "    cluster_instance_df.columns = ['cluster_id', 'instance_count']\n",
    "    # report_df = pd.DataFrame(report_class_list, columns=['class_name', 'rule_list'])\n",
    "    report_df = pd.merge(cluster_instance_df, rules_df, on='cluster_id', how='left')\n",
    "   \n",
    "    return report_df"
   ]
  },
  {
   "cell_type": "code",
   "execution_count": 83,
   "id": "e31950b1-6ed6-4222-80a5-19b289c9be6a",
   "metadata": {},
   "outputs": [],
   "source": [
    "data=cluster_report(features,kmeans_cluster).fillna('')"
   ]
  },
  {
   "cell_type": "code",
   "execution_count": 84,
   "id": "1d811d97-58d4-4155-b171-d9ef21ca3a50",
   "metadata": {},
   "outputs": [],
   "source": [
    "array_=pd.DataFrame(scaler.inverse_transform(kmeans.cluster_centers_))"
   ]
  },
  {
   "cell_type": "code",
   "execution_count": 85,
   "id": "1f2f95df-db3f-4ef0-b33a-4fd77af5a284",
   "metadata": {},
   "outputs": [
    {
     "data": {
      "text/html": [
       "<div>\n",
       "<style scoped>\n",
       "    .dataframe tbody tr th:only-of-type {\n",
       "        vertical-align: middle;\n",
       "    }\n",
       "\n",
       "    .dataframe tbody tr th {\n",
       "        vertical-align: top;\n",
       "    }\n",
       "\n",
       "    .dataframe thead th {\n",
       "        text-align: right;\n",
       "    }\n",
       "</style>\n",
       "<table border=\"1\" class=\"dataframe\">\n",
       "  <thead>\n",
       "    <tr style=\"text-align: right;\">\n",
       "      <th></th>\n",
       "      <th>cluster_id</th>\n",
       "      <th>instance_count</th>\n",
       "      <th>ALIVE_PROB_RULE</th>\n",
       "      <th>FUTURE_12MO_PURCHASE_RULE</th>\n",
       "      <th>concentration</th>\n",
       "    </tr>\n",
       "  </thead>\n",
       "  <tbody>\n",
       "    <tr>\n",
       "      <th>0</th>\n",
       "      <td>1</td>\n",
       "      <td>35</td>\n",
       "      <td></td>\n",
       "      <td></td>\n",
       "      <td>0.492958</td>\n",
       "    </tr>\n",
       "    <tr>\n",
       "      <th>1</th>\n",
       "      <td>0</td>\n",
       "      <td>19</td>\n",
       "      <td></td>\n",
       "      <td></td>\n",
       "      <td></td>\n",
       "    </tr>\n",
       "    <tr>\n",
       "      <th>2</th>\n",
       "      <td>2</td>\n",
       "      <td>17</td>\n",
       "      <td></td>\n",
       "      <td></td>\n",
       "      <td></td>\n",
       "    </tr>\n",
       "  </tbody>\n",
       "</table>\n",
       "</div>"
      ],
      "text/plain": [
       "   cluster_id  instance_count ALIVE_PROB_RULE FUTURE_12MO_PURCHASE_RULE  \\\n",
       "0           1              35                                             \n",
       "1           0              19                                             \n",
       "2           2              17                                             \n",
       "\n",
       "  concentration  \n",
       "0      0.492958  \n",
       "1                \n",
       "2                "
      ]
     },
     "execution_count": 85,
     "metadata": {},
     "output_type": "execute_result"
    }
   ],
   "source": [
    "data"
   ]
  },
  {
   "cell_type": "code",
   "execution_count": 36,
   "id": "732ea67c-b240-4631-a979-627a263182f3",
   "metadata": {},
   "outputs": [
    {
     "data": {
      "text/plain": [
       "184"
      ]
     },
     "execution_count": 36,
     "metadata": {},
     "output_type": "execute_result"
    }
   ],
   "source": [
    "features.shape[0]"
   ]
  },
  {
   "cell_type": "code",
   "execution_count": null,
   "id": "0e4a238d-d383-4b2a-9f3f-7d25e331fb36",
   "metadata": {},
   "outputs": [],
   "source": []
  },
  {
   "cell_type": "code",
   "execution_count": 85,
   "id": "a0271253-fd4a-4ab1-a7d0-12344f0f06cb",
   "metadata": {},
   "outputs": [],
   "source": [
    "array_['multiplier']=(array_[0]*array_[1])\n",
    "array_['cluster_id']=array_.index.values"
   ]
  },
  {
   "cell_type": "code",
   "execution_count": 86,
   "id": "588ab801-5e90-4c7c-96ae-f451d2cb28c5",
   "metadata": {},
   "outputs": [],
   "source": [
    "array_['cluster_segments']=pd.qcut(array_['multiplier'],3,labels=['Low Engaged','Medium Engaged','High Engaged'])"
   ]
  },
  {
   "cell_type": "code",
   "execution_count": 87,
   "id": "9b194931-a2ee-47d5-b2c9-94a1a63a4c6d",
   "metadata": {},
   "outputs": [
    {
     "data": {
      "text/html": [
       "<div>\n",
       "<style scoped>\n",
       "    .dataframe tbody tr th:only-of-type {\n",
       "        vertical-align: middle;\n",
       "    }\n",
       "\n",
       "    .dataframe tbody tr th {\n",
       "        vertical-align: top;\n",
       "    }\n",
       "\n",
       "    .dataframe thead th {\n",
       "        text-align: right;\n",
       "    }\n",
       "</style>\n",
       "<table border=\"1\" class=\"dataframe\">\n",
       "  <thead>\n",
       "    <tr style=\"text-align: right;\">\n",
       "      <th></th>\n",
       "      <th>cluster_id</th>\n",
       "      <th>instance_count</th>\n",
       "      <th>PROB_ALIVE_RULE</th>\n",
       "      <th>FREQ_FUTURE_12MO_PURCHASE_RULE</th>\n",
       "      <th>concentration</th>\n",
       "      <th>cluster_segments</th>\n",
       "    </tr>\n",
       "  </thead>\n",
       "  <tbody>\n",
       "    <tr>\n",
       "      <th>0</th>\n",
       "      <td>1</td>\n",
       "      <td>462</td>\n",
       "      <td>&gt; 0.5849999785423279</td>\n",
       "      <td>&lt;= 23.355000495910645</td>\n",
       "      <td>0.993450</td>\n",
       "      <td>Medium Engaged</td>\n",
       "    </tr>\n",
       "    <tr>\n",
       "      <th>1</th>\n",
       "      <td>0</td>\n",
       "      <td>415</td>\n",
       "      <td>&lt;= 0.5849999785423279</td>\n",
       "      <td></td>\n",
       "      <td>0.983294</td>\n",
       "      <td>Low Engaged</td>\n",
       "    </tr>\n",
       "    <tr>\n",
       "      <th>2</th>\n",
       "      <td>2</td>\n",
       "      <td>51</td>\n",
       "      <td>&gt; 0.5849999785423279</td>\n",
       "      <td>&gt; 23.355000495910645</td>\n",
       "      <td>1.000000</td>\n",
       "      <td>High Engaged</td>\n",
       "    </tr>\n",
       "  </tbody>\n",
       "</table>\n",
       "</div>"
      ],
      "text/plain": [
       "   cluster_id  instance_count        PROB_ALIVE_RULE  \\\n",
       "0           1             462   > 0.5849999785423279   \n",
       "1           0             415  <= 0.5849999785423279   \n",
       "2           2              51   > 0.5849999785423279   \n",
       "\n",
       "  FREQ_FUTURE_12MO_PURCHASE_RULE  concentration cluster_segments  \n",
       "0          <= 23.355000495910645       0.993450   Medium Engaged  \n",
       "1                                      0.983294      Low Engaged  \n",
       "2           > 23.355000495910645       1.000000     High Engaged  "
      ]
     },
     "execution_count": 87,
     "metadata": {},
     "output_type": "execute_result"
    }
   ],
   "source": [
    "pd.merge(data,array_.drop([0,1,'multiplier'],axis=1),left_on='cluster_id',right_on=\"cluster_id\")"
   ]
  },
  {
   "cell_type": "code",
   "execution_count": 64,
   "id": "082842c3-5b33-48f4-8865-8b4a2ccc0bd2",
   "metadata": {},
   "outputs": [
    {
     "data": {
      "text/html": [
       "<div>\n",
       "<style scoped>\n",
       "    .dataframe tbody tr th:only-of-type {\n",
       "        vertical-align: middle;\n",
       "    }\n",
       "\n",
       "    .dataframe tbody tr th {\n",
       "        vertical-align: top;\n",
       "    }\n",
       "\n",
       "    .dataframe thead th {\n",
       "        text-align: right;\n",
       "    }\n",
       "</style>\n",
       "<table border=\"1\" class=\"dataframe\">\n",
       "  <thead>\n",
       "    <tr style=\"text-align: right;\">\n",
       "      <th></th>\n",
       "      <th>cluster_id</th>\n",
       "      <th>instance_count</th>\n",
       "      <th>PROB_ALIVE_RULE</th>\n",
       "      <th>FREQ_FUTURE_12MO_PURCHASE_RULE</th>\n",
       "      <th>concentration</th>\n",
       "    </tr>\n",
       "  </thead>\n",
       "  <tbody>\n",
       "    <tr>\n",
       "      <th>0</th>\n",
       "      <td>1</td>\n",
       "      <td>462</td>\n",
       "      <td>&gt; 0.5849999785423279</td>\n",
       "      <td>&lt;= 23.355000495910645</td>\n",
       "      <td>0.993450</td>\n",
       "    </tr>\n",
       "    <tr>\n",
       "      <th>1</th>\n",
       "      <td>0</td>\n",
       "      <td>415</td>\n",
       "      <td>&lt;= 0.5849999785423279</td>\n",
       "      <td></td>\n",
       "      <td>0.983294</td>\n",
       "    </tr>\n",
       "    <tr>\n",
       "      <th>2</th>\n",
       "      <td>2</td>\n",
       "      <td>51</td>\n",
       "      <td>&gt; 0.5849999785423279</td>\n",
       "      <td>&gt; 23.355000495910645</td>\n",
       "      <td>1.000000</td>\n",
       "    </tr>\n",
       "  </tbody>\n",
       "</table>\n",
       "</div>"
      ],
      "text/plain": [
       "   cluster_id  instance_count        PROB_ALIVE_RULE  \\\n",
       "0           1             462   > 0.5849999785423279   \n",
       "1           0             415  <= 0.5849999785423279   \n",
       "2           2              51   > 0.5849999785423279   \n",
       "\n",
       "  FREQ_FUTURE_12MO_PURCHASE_RULE  concentration  \n",
       "0          <= 23.355000495910645       0.993450  \n",
       "1                                      0.983294  \n",
       "2           > 23.355000495910645       1.000000  "
      ]
     },
     "execution_count": 64,
     "metadata": {},
     "output_type": "execute_result"
    }
   ],
   "source": [
    "data.head()"
   ]
  },
  {
   "cell_type": "code",
   "execution_count": 66,
   "id": "89e2e321-8225-4630-956a-023e963d73e2",
   "metadata": {},
   "outputs": [],
   "source": [
    "temp=pd.DataFrame()"
   ]
  },
  {
   "cell_type": "code",
   "execution_count": 67,
   "id": "600b7640-59b2-4f49-b006-edfe156d5a24",
   "metadata": {},
   "outputs": [],
   "source": [
    "temp['cluster_segments']="
   ]
  },
  {
   "cell_type": "code",
   "execution_count": null,
   "id": "84671558-3339-4cb6-aed0-fb3bf26c7ba8",
   "metadata": {},
   "outputs": [],
   "source": [
    "temp['cluster_segments']="
   ]
  },
  {
   "cell_type": "code",
   "execution_count": 49,
   "id": "c9860ee6-8593-4aae-aa20-7c9c602a6e20",
   "metadata": {},
   "outputs": [
    {
     "ename": "SyntaxError",
     "evalue": "invalid syntax (751437359.py, line 1)",
     "output_type": "error",
     "traceback": [
      "\u001b[0;36m  File \u001b[0;32m\"/tmp/ipykernel_1/751437359.py\"\u001b[0;36m, line \u001b[0;32m1\u001b[0m\n\u001b[0;31m    data['class_id']=\u001b[0m\n\u001b[0m                     ^\u001b[0m\n\u001b[0;31mSyntaxError\u001b[0m\u001b[0;31m:\u001b[0m invalid syntax\n"
     ]
    }
   ],
   "source": [
    "data['cluster_id']=\n",
    "\n"
   ]
  },
  {
   "cell_type": "code",
   "execution_count": 26,
   "id": "2950c366-3ccc-4eeb-bd05-34faeb4cb48e",
   "metadata": {},
   "outputs": [
    {
     "name": "stdout",
     "output_type": "stream",
     "text": [
      "   class_name  instance_count        PROB_ALIVE_rule  \\\n",
      "0           1             462   > 0.5849999785423279   \n",
      "1           0             415  <= 0.5849999785423279   \n",
      "2           2              51   > 0.5849999785423279   \n",
      "\n",
      "  FREQ_FUTURE_12MO_PURCHASE_rule  concentration            timestamp  model_no  \n",
      "0          <= 23.355000495910645       0.993450  2022-05-06 04:43:41       5.0  \n",
      "1                                      0.983294  2022-05-06 04:43:41       NaN  \n",
      "2           > 23.355000495910645       1.000000  2022-05-06 04:43:41       NaN  \n"
     ]
    },
    {
     "ename": "NameError",
     "evalue": "name 'errors' is not defined",
     "output_type": "error",
     "traceback": [
      "\u001b[0;31m---------------------------------------------------------------------------\u001b[0m",
      "\u001b[0;31mNameError\u001b[0m                                 Traceback (most recent call last)",
      "\u001b[0;32m/tmp/ipykernel_1/4060032922.py\u001b[0m in \u001b[0;36m<module>\u001b[0;34m\u001b[0m\n\u001b[1;32m     31\u001b[0m \u001b[0;31m# errors=client.insert_rows_json(CHECKPOINTS_TABLE,eval(data.to_json(orient='records')))\u001b[0m\u001b[0;34m\u001b[0m\u001b[0;34m\u001b[0m\u001b[0;34m\u001b[0m\u001b[0m\n\u001b[1;32m     32\u001b[0m \u001b[0;34m\u001b[0m\u001b[0m\n\u001b[0;32m---> 33\u001b[0;31m \u001b[0;32mif\u001b[0m \u001b[0merrors\u001b[0m \u001b[0;34m==\u001b[0m \u001b[0;34m[\u001b[0m\u001b[0;34m]\u001b[0m\u001b[0;34m:\u001b[0m\u001b[0;34m\u001b[0m\u001b[0;34m\u001b[0m\u001b[0m\n\u001b[0m\u001b[1;32m     34\u001b[0m     \u001b[0mprint\u001b[0m\u001b[0;34m(\u001b[0m\u001b[0;34m\"New rows have been added.\"\u001b[0m\u001b[0;34m)\u001b[0m\u001b[0;34m\u001b[0m\u001b[0;34m\u001b[0m\u001b[0m\n\u001b[1;32m     35\u001b[0m \u001b[0;32melse\u001b[0m\u001b[0;34m:\u001b[0m\u001b[0;34m\u001b[0m\u001b[0;34m\u001b[0m\u001b[0m\n",
      "\u001b[0;31mNameError\u001b[0m: name 'errors' is not defined"
     ]
    }
   ],
   "source": [
    "#Appending model params to model checkpoints table\n",
    "f = '%Y-%m-%d %H:%M:%S'\n",
    "timestamp_now = datetime.datetime.now().strftime(f)   \n",
    "\n",
    "data['timestamp']=timestamp_now\n",
    "\n",
    "# Model Version, Get the latest model Number\n",
    "model_number=client.query(f\"SELECT max(model_no) FROM `{CHECKPOINTS_TABLE}`\").to_dataframe()\n",
    "if model_number.isna().values[0]:\n",
    "    model_number=1\n",
    "else:\n",
    "    model_number+=1\n",
    "    \n",
    "data['model_no']=model_number\n",
    "model_filename = f\"kmeans_model_{model_number.values[0][0]}.joblib\"\n",
    "joblib.dump(kmeans, model_filename)\n",
    "\n",
    "# # Upload the model to GCS\n",
    "bucket_path=\"model_checkpoints/cltv_model\"\n",
    "bucket = storage.Client(project=PROJECT_NAME).bucket(\"cdp-dev-ai-ml\")\n",
    "blob = bucket.blob('{}/{}'.format(\n",
    "    bucket_path,\n",
    "    model_filename))\n",
    "blob.upload_from_filename(model_filename)\n",
    "# data['model_path']=model_filename    \n",
    "\n",
    "print(data)\n",
    "    \n",
    "# data=[{\"timestamp\":timestamp_now,'pareto_nbd_metric':eval(pnf_fitter_param.to_json()),'gamma_gamma_metric':eval(ggf_fitter_param.to_json()),'rmse':rmse}]\n",
    "\n",
    "# errors=client.insert_rows_json(CHECKPOINTS_TABLE,eval(data.to_json(orient='records')))\n",
    "\n",
    "if errors == []:\n",
    "    print(\"New rows have been added.\")\n",
    "else:\n",
    "    print(\"Encountered errors while inserting rows: {}\".format(errors))"
   ]
  },
  {
   "cell_type": "code",
   "execution_count": null,
   "id": "9d480079-3520-4bed-ab3a-99da8aee6be7",
   "metadata": {},
   "outputs": [],
   "source": [
    "concentration= alive_prob_rule = future_12m_rule =Done\n",
    "\n",
    "\n",
    "which cluster to target?\n",
    "\n",
    "    Alive >  and future_12m_purchase ==> Decision\n",
    "    \n",
    "    \n",
    "70M records? ==> Groubby ==> weighted_kmeans ==> Done\n"
   ]
  },
  {
   "cell_type": "code",
   "execution_count": 267,
   "id": "22ddc193-6e16-4ef4-a269-111df5b7e8f3",
   "metadata": {},
   "outputs": [
    {
     "data": {
      "text/plain": [
       "array([[ 0.83464653,  9.1068201 ],\n",
       "       [ 0.33122119,  1.08785686],\n",
       "       [ 0.95028381, 37.91683702]])"
      ]
     },
     "execution_count": 267,
     "metadata": {},
     "output_type": "execute_result"
    }
   ],
   "source": [
    "scaler.inverse_transform(kmeans.cluster_centers_)"
   ]
  },
  {
   "cell_type": "markdown",
   "id": "dbaf5115-b788-4184-88b9-08840bc1ec27",
   "metadata": {},
   "source": [
    "### Model  Batch Prediction"
   ]
  },
  {
   "cell_type": "code",
   "execution_count": 11,
   "id": "a8b7f0ff-9d67-431f-9e05-48e77a3eee43",
   "metadata": {},
   "outputs": [],
   "source": [
    "sample_records=client.query(f\"select alive_prob,future_12m_purchase,customer_id from {CLTV_PREDICTIONS_TABLE} limit 10000000\").to_dataframe().set_index('customer_id')"
   ]
  },
  {
   "cell_type": "code",
   "execution_count": 12,
   "id": "b70b15e4-c1f4-44dc-853d-c5b197b23eab",
   "metadata": {},
   "outputs": [
    {
     "name": "stdout",
     "output_type": "stream",
     "text": [
      "CPU times: user 89.2 ms, sys: 77.6 ms, total: 167 ms\n",
      "Wall time: 165 ms\n"
     ]
    }
   ],
   "source": [
    "%%time\n",
    "scaled_features=scaler.transform(sample_records)"
   ]
  },
  {
   "cell_type": "code",
   "execution_count": 13,
   "id": "e404d6df-076b-4b34-8d74-c24ec7ac01e3",
   "metadata": {},
   "outputs": [
    {
     "name": "stdout",
     "output_type": "stream",
     "text": [
      "CPU times: user 609 ms, sys: 246 ms, total: 855 ms\n",
      "Wall time: 727 ms\n"
     ]
    }
   ],
   "source": [
    "%%time\n",
    "kmeans_cluster=kmeans.predict(scaled_features)"
   ]
  },
  {
   "cell_type": "code",
   "execution_count": 14,
   "id": "d0e2e23f-7138-491c-a496-ed7d0dfc143a",
   "metadata": {},
   "outputs": [
    {
     "data": {
      "text/plain": [
       "array([0, 0, 0, ..., 0, 0, 0], dtype=int32)"
      ]
     },
     "execution_count": 14,
     "metadata": {},
     "output_type": "execute_result"
    }
   ],
   "source": [
    "kmeans_cluster"
   ]
  },
  {
   "cell_type": "code",
   "execution_count": 242,
   "id": "4a92e8a6-7705-480b-9251-6d39b6b37952",
   "metadata": {},
   "outputs": [],
   "source": [
    "sample_records['cluster_id']=kmeans_cluster"
   ]
  },
  {
   "cell_type": "code",
   "execution_count": 248,
   "id": "a7fff0f7-a942-499b-a58d-a7982c1502bb",
   "metadata": {},
   "outputs": [
    {
     "data": {
      "text/html": [
       "<div>\n",
       "<style scoped>\n",
       "    .dataframe tbody tr th:only-of-type {\n",
       "        vertical-align: middle;\n",
       "    }\n",
       "\n",
       "    .dataframe tbody tr th {\n",
       "        vertical-align: top;\n",
       "    }\n",
       "\n",
       "    .dataframe thead th {\n",
       "        text-align: right;\n",
       "    }\n",
       "</style>\n",
       "<table border=\"1\" class=\"dataframe\">\n",
       "  <thead>\n",
       "    <tr style=\"text-align: right;\">\n",
       "      <th></th>\n",
       "      <th>alive_prob</th>\n",
       "      <th>future_12m_purchase</th>\n",
       "      <th>cluster_id</th>\n",
       "    </tr>\n",
       "    <tr>\n",
       "      <th>customer_id</th>\n",
       "      <th></th>\n",
       "      <th></th>\n",
       "      <th></th>\n",
       "    </tr>\n",
       "  </thead>\n",
       "  <tbody>\n",
       "    <tr>\n",
       "      <th>2567</th>\n",
       "      <td>1.00000</td>\n",
       "      <td>5.239709</td>\n",
       "      <td>0</td>\n",
       "    </tr>\n",
       "    <tr>\n",
       "      <th>3772</th>\n",
       "      <td>1.00000</td>\n",
       "      <td>5.239709</td>\n",
       "      <td>0</td>\n",
       "    </tr>\n",
       "    <tr>\n",
       "      <th>5607</th>\n",
       "      <td>1.00000</td>\n",
       "      <td>5.239709</td>\n",
       "      <td>0</td>\n",
       "    </tr>\n",
       "    <tr>\n",
       "      <th>5631</th>\n",
       "      <td>1.00000</td>\n",
       "      <td>5.239709</td>\n",
       "      <td>0</td>\n",
       "    </tr>\n",
       "    <tr>\n",
       "      <th>7105</th>\n",
       "      <td>1.00000</td>\n",
       "      <td>5.239709</td>\n",
       "      <td>0</td>\n",
       "    </tr>\n",
       "    <tr>\n",
       "      <th>...</th>\n",
       "      <td>...</td>\n",
       "      <td>...</td>\n",
       "      <td>...</td>\n",
       "    </tr>\n",
       "    <tr>\n",
       "      <th>679</th>\n",
       "      <td>0.32145</td>\n",
       "      <td>0.629957</td>\n",
       "      <td>1</td>\n",
       "    </tr>\n",
       "    <tr>\n",
       "      <th>3621</th>\n",
       "      <td>0.32145</td>\n",
       "      <td>0.629957</td>\n",
       "      <td>1</td>\n",
       "    </tr>\n",
       "    <tr>\n",
       "      <th>5989</th>\n",
       "      <td>0.32145</td>\n",
       "      <td>0.629957</td>\n",
       "      <td>1</td>\n",
       "    </tr>\n",
       "    <tr>\n",
       "      <th>6324</th>\n",
       "      <td>0.32145</td>\n",
       "      <td>0.629957</td>\n",
       "      <td>1</td>\n",
       "    </tr>\n",
       "    <tr>\n",
       "      <th>10152</th>\n",
       "      <td>0.32145</td>\n",
       "      <td>0.629957</td>\n",
       "      <td>1</td>\n",
       "    </tr>\n",
       "  </tbody>\n",
       "</table>\n",
       "<p>20000 rows × 3 columns</p>\n",
       "</div>"
      ],
      "text/plain": [
       "             alive_prob  future_12m_purchase  cluster_id\n",
       "customer_id                                             \n",
       "2567            1.00000             5.239709           0\n",
       "3772            1.00000             5.239709           0\n",
       "5607            1.00000             5.239709           0\n",
       "5631            1.00000             5.239709           0\n",
       "7105            1.00000             5.239709           0\n",
       "...                 ...                  ...         ...\n",
       "679             0.32145             0.629957           1\n",
       "3621            0.32145             0.629957           1\n",
       "5989            0.32145             0.629957           1\n",
       "6324            0.32145             0.629957           1\n",
       "10152           0.32145             0.629957           1\n",
       "\n",
       "[20000 rows x 3 columns]"
      ]
     },
     "execution_count": 248,
     "metadata": {},
     "output_type": "execute_result"
    }
   ],
   "source": [
    "sample_records.head(20000)"
   ]
  },
  {
   "cell_type": "code",
   "execution_count": 247,
   "id": "ac896e63-a481-444a-b21e-8f1c126a9fa3",
   "metadata": {},
   "outputs": [
    {
     "data": {
      "text/html": [
       "<div>\n",
       "<style scoped>\n",
       "    .dataframe tbody tr th:only-of-type {\n",
       "        vertical-align: middle;\n",
       "    }\n",
       "\n",
       "    .dataframe tbody tr th {\n",
       "        vertical-align: top;\n",
       "    }\n",
       "\n",
       "    .dataframe thead th {\n",
       "        text-align: right;\n",
       "    }\n",
       "</style>\n",
       "<table border=\"1\" class=\"dataframe\">\n",
       "  <thead>\n",
       "    <tr style=\"text-align: right;\">\n",
       "      <th></th>\n",
       "      <th>alive_prob</th>\n",
       "      <th>future_12m_purchase</th>\n",
       "      <th>cluster_id</th>\n",
       "    </tr>\n",
       "    <tr>\n",
       "      <th>customer_id</th>\n",
       "      <th></th>\n",
       "      <th></th>\n",
       "      <th></th>\n",
       "    </tr>\n",
       "  </thead>\n",
       "  <tbody>\n",
       "    <tr>\n",
       "      <th>12444</th>\n",
       "      <td>0.974413</td>\n",
       "      <td>23.881556</td>\n",
       "      <td>2</td>\n",
       "    </tr>\n",
       "    <tr>\n",
       "      <th>12497</th>\n",
       "      <td>0.974413</td>\n",
       "      <td>23.881556</td>\n",
       "      <td>2</td>\n",
       "    </tr>\n",
       "    <tr>\n",
       "      <th>13279</th>\n",
       "      <td>0.974413</td>\n",
       "      <td>23.881556</td>\n",
       "      <td>2</td>\n",
       "    </tr>\n",
       "    <tr>\n",
       "      <th>14574</th>\n",
       "      <td>0.974413</td>\n",
       "      <td>23.881556</td>\n",
       "      <td>2</td>\n",
       "    </tr>\n",
       "    <tr>\n",
       "      <th>14751</th>\n",
       "      <td>0.974413</td>\n",
       "      <td>23.881556</td>\n",
       "      <td>2</td>\n",
       "    </tr>\n",
       "    <tr>\n",
       "      <th>...</th>\n",
       "      <td>...</td>\n",
       "      <td>...</td>\n",
       "      <td>...</td>\n",
       "    </tr>\n",
       "    <tr>\n",
       "      <th>958</th>\n",
       "      <td>0.347802</td>\n",
       "      <td>0.716739</td>\n",
       "      <td>1</td>\n",
       "    </tr>\n",
       "    <tr>\n",
       "      <th>2980</th>\n",
       "      <td>0.347802</td>\n",
       "      <td>0.716739</td>\n",
       "      <td>1</td>\n",
       "    </tr>\n",
       "    <tr>\n",
       "      <th>3754</th>\n",
       "      <td>0.347802</td>\n",
       "      <td>0.716739</td>\n",
       "      <td>1</td>\n",
       "    </tr>\n",
       "    <tr>\n",
       "      <th>4214</th>\n",
       "      <td>0.347802</td>\n",
       "      <td>0.716739</td>\n",
       "      <td>1</td>\n",
       "    </tr>\n",
       "    <tr>\n",
       "      <th>5468</th>\n",
       "      <td>0.347802</td>\n",
       "      <td>0.716739</td>\n",
       "      <td>1</td>\n",
       "    </tr>\n",
       "  </tbody>\n",
       "</table>\n",
       "<p>20000 rows × 3 columns</p>\n",
       "</div>"
      ],
      "text/plain": [
       "             alive_prob  future_12m_purchase  cluster_id\n",
       "customer_id                                             \n",
       "12444          0.974413            23.881556           2\n",
       "12497          0.974413            23.881556           2\n",
       "13279          0.974413            23.881556           2\n",
       "14574          0.974413            23.881556           2\n",
       "14751          0.974413            23.881556           2\n",
       "...                 ...                  ...         ...\n",
       "958            0.347802             0.716739           1\n",
       "2980           0.347802             0.716739           1\n",
       "3754           0.347802             0.716739           1\n",
       "4214           0.347802             0.716739           1\n",
       "5468           0.347802             0.716739           1\n",
       "\n",
       "[20000 rows x 3 columns]"
      ]
     },
     "execution_count": 247,
     "metadata": {},
     "output_type": "execute_result"
    }
   ],
   "source": [
    "sample_records.tail(20000)"
   ]
  },
  {
   "cell_type": "code",
   "execution_count": null,
   "id": "33833216-43e1-48b4-a339-07e2da8f722c",
   "metadata": {},
   "outputs": [],
   "source": []
  }
 ],
 "metadata": {
  "kernelspec": {
   "display_name": "Python [conda env:root] * (Local)",
   "language": "python",
   "name": "local-conda-root-base"
  },
  "language_info": {
   "codemirror_mode": {
    "name": "ipython",
    "version": 3
   },
   "file_extension": ".py",
   "mimetype": "text/x-python",
   "name": "python",
   "nbconvert_exporter": "python",
   "pygments_lexer": "ipython3",
   "version": "3.7.12"
  }
 },
 "nbformat": 4,
 "nbformat_minor": 5
}
