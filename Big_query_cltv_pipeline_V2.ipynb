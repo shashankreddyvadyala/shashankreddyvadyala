{
 "cells": [
  {
   "cell_type": "markdown",
   "metadata": {
    "id": "6lrU7_rGleYy"
   },
   "source": [
    "### Required Modules"
   ]
  },
  {
   "cell_type": "code",
   "execution_count": 45,
   "metadata": {
    "colab": {
     "base_uri": "https://localhost:8080/"
    },
    "id": "CApV9CdxG3pX",
    "outputId": "6e28d07e-289c-44cc-d25f-1d3e7d29741b"
   },
   "outputs": [
    {
     "name": "stdout",
     "output_type": "stream",
     "text": [
      "Requirement already satisfied: lifetimes in /opt/conda/lib/python3.7/site-packages (0.11.3)\n",
      "Requirement already satisfied: scipy>=1.0.0 in /opt/conda/lib/python3.7/site-packages (from lifetimes) (1.7.3)\n",
      "Requirement already satisfied: autograd>=1.2.0 in /opt/conda/lib/python3.7/site-packages (from lifetimes) (1.4)\n",
      "Requirement already satisfied: numpy>=1.10.0 in /opt/conda/lib/python3.7/site-packages (from lifetimes) (1.19.5)\n",
      "Requirement already satisfied: pandas>=0.24.0 in /opt/conda/lib/python3.7/site-packages (from lifetimes) (1.3.5)\n",
      "Requirement already satisfied: dill>=0.2.6 in /opt/conda/lib/python3.7/site-packages (from lifetimes) (0.3.4)\n",
      "Requirement already satisfied: future>=0.15.2 in /opt/conda/lib/python3.7/site-packages (from autograd>=1.2.0->lifetimes) (0.18.2)\n",
      "Requirement already satisfied: python-dateutil>=2.7.3 in /opt/conda/lib/python3.7/site-packages (from pandas>=0.24.0->lifetimes) (2.8.2)\n",
      "Requirement already satisfied: pytz>=2017.3 in /opt/conda/lib/python3.7/site-packages (from pandas>=0.24.0->lifetimes) (2021.3)\n",
      "Requirement already satisfied: six>=1.5 in /opt/conda/lib/python3.7/site-packages (from python-dateutil>=2.7.3->pandas>=0.24.0->lifetimes) (1.16.0)\n",
      "Collecting pandas_gbq\n",
      "  Using cached pandas_gbq-0.17.4-py2.py3-none-any.whl (25 kB)\n",
      "Requirement already satisfied: google-cloud-bigquery!=2.4.*,<4.0.0dev,>=1.27.2 in /opt/conda/lib/python3.7/site-packages (from pandas_gbq) (2.34.2)\n",
      "Requirement already satisfied: google-api-core!=2.0.*,!=2.1.*,!=2.2.*,!=2.3.0,<3.0.0dev,>=1.31.5 in /home/jupyter/.local/lib/python3.7/site-packages (from pandas_gbq) (1.31.5)\n",
      "Requirement already satisfied: google-cloud-bigquery-storage<3.0.0dev,>=1.1.0 in /opt/conda/lib/python3.7/site-packages (from pandas_gbq) (2.13.0)\n",
      "Collecting db-dtypes<2.0.0,>=0.3.1\n",
      "  Downloading db_dtypes-1.0.1-py2.py3-none-any.whl (14 kB)\n",
      "Requirement already satisfied: numpy>=1.16.6 in /opt/conda/lib/python3.7/site-packages (from pandas_gbq) (1.19.5)\n",
      "Requirement already satisfied: pandas>=0.24.2 in /opt/conda/lib/python3.7/site-packages (from pandas_gbq) (1.3.5)\n",
      "Requirement already satisfied: setuptools in /opt/conda/lib/python3.7/site-packages (from pandas_gbq) (59.8.0)\n",
      "Collecting pydata-google-auth\n",
      "  Using cached pydata_google_auth-1.4.0-py2.py3-none-any.whl (14 kB)\n",
      "Requirement already satisfied: google-auth>=1.25.0 in /home/jupyter/.local/lib/python3.7/site-packages (from pandas_gbq) (1.35.0)\n",
      "Requirement already satisfied: pyarrow<8.0dev,>=3.0.0 in /home/jupyter/.local/lib/python3.7/site-packages (from pandas_gbq) (6.0.1)\n",
      "Requirement already satisfied: google-auth-oauthlib>=0.0.1 in /opt/conda/lib/python3.7/site-packages (from pandas_gbq) (0.5.1)\n",
      "Requirement already satisfied: packaging>=17.0 in /opt/conda/lib/python3.7/site-packages (from db-dtypes<2.0.0,>=0.3.1->pandas_gbq) (21.3)\n",
      "Requirement already satisfied: protobuf>=3.12.0 in /opt/conda/lib/python3.7/site-packages (from google-api-core!=2.0.*,!=2.1.*,!=2.2.*,!=2.3.0,<3.0.0dev,>=1.31.5->pandas_gbq) (3.19.4)\n",
      "Requirement already satisfied: pytz in /opt/conda/lib/python3.7/site-packages (from google-api-core!=2.0.*,!=2.1.*,!=2.2.*,!=2.3.0,<3.0.0dev,>=1.31.5->pandas_gbq) (2021.3)\n",
      "Requirement already satisfied: six>=1.13.0 in /opt/conda/lib/python3.7/site-packages (from google-api-core!=2.0.*,!=2.1.*,!=2.2.*,!=2.3.0,<3.0.0dev,>=1.31.5->pandas_gbq) (1.16.0)\n",
      "Requirement already satisfied: googleapis-common-protos<2.0dev,>=1.6.0 in /opt/conda/lib/python3.7/site-packages (from google-api-core!=2.0.*,!=2.1.*,!=2.2.*,!=2.3.0,<3.0.0dev,>=1.31.5->pandas_gbq) (1.54.0)\n",
      "Requirement already satisfied: requests<3.0.0dev,>=2.18.0 in /opt/conda/lib/python3.7/site-packages (from google-api-core!=2.0.*,!=2.1.*,!=2.2.*,!=2.3.0,<3.0.0dev,>=1.31.5->pandas_gbq) (2.27.1)\n",
      "Requirement already satisfied: rsa<5,>=3.1.4 in /opt/conda/lib/python3.7/site-packages (from google-auth>=1.25.0->pandas_gbq) (4.8)\n",
      "Requirement already satisfied: pyasn1-modules>=0.2.1 in /opt/conda/lib/python3.7/site-packages (from google-auth>=1.25.0->pandas_gbq) (0.2.7)\n",
      "Requirement already satisfied: cachetools<5.0,>=2.0.0 in /home/jupyter/.local/lib/python3.7/site-packages (from google-auth>=1.25.0->pandas_gbq) (4.2.4)\n",
      "Requirement already satisfied: requests-oauthlib>=0.7.0 in /opt/conda/lib/python3.7/site-packages (from google-auth-oauthlib>=0.0.1->pandas_gbq) (1.3.1)\n",
      "Requirement already satisfied: google-resumable-media<3.0dev,>=0.6.0 in /opt/conda/lib/python3.7/site-packages (from google-cloud-bigquery!=2.4.*,<4.0.0dev,>=1.27.2->pandas_gbq) (2.3.2)\n",
      "Requirement already satisfied: grpcio<2.0dev,>=1.38.1 in /opt/conda/lib/python3.7/site-packages (from google-cloud-bigquery!=2.4.*,<4.0.0dev,>=1.27.2->pandas_gbq) (1.44.0)\n",
      "Requirement already satisfied: google-cloud-core<3.0.0dev,>=1.4.1 in /home/jupyter/.local/lib/python3.7/site-packages (from google-cloud-bigquery!=2.4.*,<4.0.0dev,>=1.27.2->pandas_gbq) (2.3.0)\n",
      "Requirement already satisfied: python-dateutil<3.0dev,>=2.7.2 in /opt/conda/lib/python3.7/site-packages (from google-cloud-bigquery!=2.4.*,<4.0.0dev,>=1.27.2->pandas_gbq) (2.8.2)\n",
      "Requirement already satisfied: proto-plus>=1.15.0 in /home/jupyter/.local/lib/python3.7/site-packages (from google-cloud-bigquery!=2.4.*,<4.0.0dev,>=1.27.2->pandas_gbq) (1.18.1)\n",
      "Requirement already satisfied: google-crc32c<2.0dev,>=1.0 in /opt/conda/lib/python3.7/site-packages (from google-resumable-media<3.0dev,>=0.6.0->google-cloud-bigquery!=2.4.*,<4.0.0dev,>=1.27.2->pandas_gbq) (1.1.2)\n",
      "Requirement already satisfied: pyparsing!=3.0.5,>=2.0.2 in /opt/conda/lib/python3.7/site-packages (from packaging>=17.0->db-dtypes<2.0.0,>=0.3.1->pandas_gbq) (3.0.7)\n",
      "Requirement already satisfied: pyasn1<0.5.0,>=0.4.6 in /opt/conda/lib/python3.7/site-packages (from pyasn1-modules>=0.2.1->google-auth>=1.25.0->pandas_gbq) (0.4.8)\n",
      "Requirement already satisfied: urllib3<1.27,>=1.21.1 in /opt/conda/lib/python3.7/site-packages (from requests<3.0.0dev,>=2.18.0->google-api-core!=2.0.*,!=2.1.*,!=2.2.*,!=2.3.0,<3.0.0dev,>=1.31.5->pandas_gbq) (1.26.8)\n",
      "Requirement already satisfied: certifi>=2017.4.17 in /opt/conda/lib/python3.7/site-packages (from requests<3.0.0dev,>=2.18.0->google-api-core!=2.0.*,!=2.1.*,!=2.2.*,!=2.3.0,<3.0.0dev,>=1.31.5->pandas_gbq) (2021.10.8)\n",
      "Requirement already satisfied: charset-normalizer~=2.0.0 in /opt/conda/lib/python3.7/site-packages (from requests<3.0.0dev,>=2.18.0->google-api-core!=2.0.*,!=2.1.*,!=2.2.*,!=2.3.0,<3.0.0dev,>=1.31.5->pandas_gbq) (2.0.12)\n",
      "Requirement already satisfied: idna<4,>=2.5 in /opt/conda/lib/python3.7/site-packages (from requests<3.0.0dev,>=2.18.0->google-api-core!=2.0.*,!=2.1.*,!=2.2.*,!=2.3.0,<3.0.0dev,>=1.31.5->pandas_gbq) (3.3)\n",
      "Requirement already satisfied: oauthlib>=3.0.0 in /opt/conda/lib/python3.7/site-packages (from requests-oauthlib>=0.7.0->google-auth-oauthlib>=0.0.1->pandas_gbq) (3.2.0)\n",
      "Requirement already satisfied: cffi>=1.0.0 in /opt/conda/lib/python3.7/site-packages (from google-crc32c<2.0dev,>=1.0->google-resumable-media<3.0dev,>=0.6.0->google-cloud-bigquery!=2.4.*,<4.0.0dev,>=1.27.2->pandas_gbq) (1.15.0)\n",
      "Requirement already satisfied: pycparser in /opt/conda/lib/python3.7/site-packages (from cffi>=1.0.0->google-crc32c<2.0dev,>=1.0->google-resumable-media<3.0dev,>=0.6.0->google-cloud-bigquery!=2.4.*,<4.0.0dev,>=1.27.2->pandas_gbq) (2.21)\n",
      "Installing collected packages: db-dtypes, pydata-google-auth, pandas_gbq\n",
      "Successfully installed db-dtypes-1.0.1 pandas_gbq-0.17.4 pydata-google-auth-1.4.0\n"
     ]
    }
   ],
   "source": [
    "!pip install lifetimes\n",
    "!pip install pandas_gbq"
   ]
  },
  {
   "cell_type": "code",
   "execution_count": 61,
   "metadata": {
    "id": "LYFjYIU4GxBG"
   },
   "outputs": [],
   "source": [
    "from lifetimes import ParetoNBDFitter,GammaGammaFitter\n",
    "import pandas as pd\n",
    "import numpy as np\n",
    "import math\n",
    "from google.cloud import bigquery\n",
    "import datetime\n",
    "import time\n",
    "import gc\n",
    "import pandas_gbq"
   ]
  },
  {
   "cell_type": "code",
   "execution_count": 47,
   "metadata": {},
   "outputs": [
    {
     "data": {
      "text/plain": [
       "123"
      ]
     },
     "execution_count": 47,
     "metadata": {},
     "output_type": "execute_result"
    }
   ],
   "source": [
    "gc.collect()"
   ]
  },
  {
   "cell_type": "markdown",
   "metadata": {
    "id": "qzy_w8-0zrFl"
   },
   "source": [
    "## Config"
   ]
  },
  {
   "cell_type": "code",
   "execution_count": 48,
   "metadata": {
    "id": "l8LENt5-zqT_"
   },
   "outputs": [],
   "source": [
    "PROJECT_NAME='cdp-dev-bdfa'\n",
    "RFM_TABLE='harmonized_layer.RFM'\n",
    "PREDICTIONS_TABLE='harmonized_layer.CLTV_Model_Predictions'\n",
    "CHECKPOINTS_TABLE='harmonized_layer.CLTV_Model_Checkpoints'\n",
    "CLTV_PERIOD=12 #months\n",
    "CLTV_EXPECTED_TRIPS_PERIOD=365 #days\n",
    "\n",
    "client = bigquery.Client(project=PROJECT_NAME)"
   ]
  },
  {
   "cell_type": "markdown",
   "metadata": {
    "id": "RMmvcQl1lUpU"
   },
   "source": [
    "## Loading the data from big query"
   ]
  },
  {
   "cell_type": "code",
   "execution_count": 49,
   "metadata": {
    "id": "q_L59uDtGQll"
   },
   "outputs": [],
   "source": [
    "sql_query = (f\"SELECT frequency,recency,T,monetary_value,Count(customer_id) as segments FROM `{RFM_TABLE}` GROUP BY frequency,recency,T,monetary_value\")\n",
    "df = client.query(sql_query).to_dataframe().set_index('segments')"
   ]
  },
  {
   "cell_type": "code",
   "execution_count": 50,
   "metadata": {},
   "outputs": [
    {
     "data": {
      "text/html": [
       "<div>\n",
       "<style scoped>\n",
       "    .dataframe tbody tr th:only-of-type {\n",
       "        vertical-align: middle;\n",
       "    }\n",
       "\n",
       "    .dataframe tbody tr th {\n",
       "        vertical-align: top;\n",
       "    }\n",
       "\n",
       "    .dataframe thead th {\n",
       "        text-align: right;\n",
       "    }\n",
       "</style>\n",
       "<table border=\"1\" class=\"dataframe\">\n",
       "  <thead>\n",
       "    <tr style=\"text-align: right;\">\n",
       "      <th></th>\n",
       "      <th>frequency</th>\n",
       "      <th>recency</th>\n",
       "      <th>T</th>\n",
       "      <th>monetary_value</th>\n",
       "    </tr>\n",
       "    <tr>\n",
       "      <th>segments</th>\n",
       "      <th></th>\n",
       "      <th></th>\n",
       "      <th></th>\n",
       "      <th></th>\n",
       "    </tr>\n",
       "  </thead>\n",
       "  <tbody>\n",
       "    <tr>\n",
       "      <th>10</th>\n",
       "      <td>0</td>\n",
       "      <td>0.0</td>\n",
       "      <td>38.86</td>\n",
       "      <td>0.0</td>\n",
       "    </tr>\n",
       "    <tr>\n",
       "      <th>15</th>\n",
       "      <td>0</td>\n",
       "      <td>0.0</td>\n",
       "      <td>38.71</td>\n",
       "      <td>0.0</td>\n",
       "    </tr>\n",
       "    <tr>\n",
       "      <th>12</th>\n",
       "      <td>0</td>\n",
       "      <td>0.0</td>\n",
       "      <td>38.57</td>\n",
       "      <td>0.0</td>\n",
       "    </tr>\n",
       "    <tr>\n",
       "      <th>13</th>\n",
       "      <td>0</td>\n",
       "      <td>0.0</td>\n",
       "      <td>38.43</td>\n",
       "      <td>0.0</td>\n",
       "    </tr>\n",
       "    <tr>\n",
       "      <th>14</th>\n",
       "      <td>0</td>\n",
       "      <td>0.0</td>\n",
       "      <td>38.29</td>\n",
       "      <td>0.0</td>\n",
       "    </tr>\n",
       "  </tbody>\n",
       "</table>\n",
       "</div>"
      ],
      "text/plain": [
       "          frequency  recency      T  monetary_value\n",
       "segments                                           \n",
       "10                0      0.0  38.86             0.0\n",
       "15                0      0.0  38.71             0.0\n",
       "12                0      0.0  38.57             0.0\n",
       "13                0      0.0  38.43             0.0\n",
       "14                0      0.0  38.29             0.0"
      ]
     },
     "execution_count": 50,
     "metadata": {},
     "output_type": "execute_result"
    }
   ],
   "source": [
    "df.head()"
   ]
  },
  {
   "cell_type": "markdown",
   "metadata": {
    "id": "h3-aVITLKr_k"
   },
   "source": [
    "## Building Pareto Model"
   ]
  },
  {
   "cell_type": "code",
   "execution_count": 51,
   "metadata": {
    "colab": {
     "base_uri": "https://localhost:8080/"
    },
    "id": "k4GQotXiKzyw",
    "outputId": "b113021b-170d-400d-a495-f14d12265818"
   },
   "outputs": [
    {
     "data": {
      "text/plain": [
       "<lifetimes.ParetoNBDFitter: fitted with 1030 subjects, alpha: 10.58, beta: 11.67, r: 0.55, s: 0.61>"
      ]
     },
     "execution_count": 51,
     "metadata": {},
     "output_type": "execute_result"
    }
   ],
   "source": [
    "pnf = ParetoNBDFitter(penalizer_coef=0.0)\n",
    "pnf.fit(df['frequency'], df['recency'], df['T'],weights=df.index.tolist())"
   ]
  },
  {
   "cell_type": "code",
   "execution_count": 52,
   "metadata": {
    "id": "lbdDj_FqNo_8"
   },
   "outputs": [],
   "source": [
    "simulated_data = pnf.generate_new_data(size=pnf.data.shape[0])\n",
    "rmse=np.sqrt(np.mean(np.square(df['frequency'] - simulated_data['frequency'])))\n",
    "pnf_fitter_param=pnf.params_"
   ]
  },
  {
   "cell_type": "markdown",
   "metadata": {
    "id": "Et94WTetOQ8m"
   },
   "source": [
    "## Building Gamma Gamma Model\n",
    "\n",
    "#### Note-:\n",
    "To calculate the CLV, we need to know the returning customer summary, which is required by gammafitter"
   ]
  },
  {
   "cell_type": "code",
   "execution_count": 53,
   "metadata": {
    "id": "-BSDvfl2OamO"
   },
   "outputs": [],
   "source": [
    "returning_customers_summary = df[df['frequency']>0]"
   ]
  },
  {
   "cell_type": "markdown",
   "metadata": {
    "id": "5KJGVMmhOzyt"
   },
   "source": [
    "##### Note-: \n",
    "The Gamma-Gamma submodel, in fact, assumes that there is no relationship between the monetary value and the purchase frequency. In practice we need to check whether the Pearson correlation between the two vectors is close to 0 in order to use this model."
   ]
  },
  {
   "cell_type": "code",
   "execution_count": 54,
   "metadata": {
    "id": "7ryFCptAO3CN"
   },
   "outputs": [],
   "source": [
    "corr_=returning_customers_summary[['monetary_value', 'frequency']].corr()\n",
    "\n",
    "if not corr_.loc['monetary_value','frequency']<0.15:\n",
    "  print(\"Please rectify,Its above threshold. Here gamma-gamma model assumes that no relationship between monetary value and purchase frequency\")"
   ]
  },
  {
   "cell_type": "code",
   "execution_count": 55,
   "metadata": {
    "id": "5eb3T5myQEC1"
   },
   "outputs": [],
   "source": [
    "ggf=GammaGammaFitter(penalizer_coef = 0)\n",
    "ggf.fit(returning_customers_summary['frequency'],\n",
    "        returning_customers_summary['monetary_value'])\n",
    "ggf_fitter_param=ggf.params_"
   ]
  },
  {
   "cell_type": "markdown",
   "metadata": {
    "id": "Yqfvx6JCdg8_"
   },
   "source": [
    "### Generating KPI's For next 12 months\n",
    "\n",
    "###### Batch predictions, Processing 10M records at a time"
   ]
  },
  {
   "cell_type": "code",
   "execution_count": 56,
   "metadata": {},
   "outputs": [],
   "source": [
    "total_rows=client.query(f\"SELECT max(customer_id) as total_row  FROM `{RFM_TABLE}`\").to_dataframe().values[0][0]\n",
    "BATCH_SIZE=1000000\n",
    "batches={}\n",
    "for index,offset  in enumerate(range(0,total_rows,BATCH_SIZE)):\n",
    "    batches[f\"batch{index}\"]={'limit':BATCH_SIZE,'offset':offset}"
   ]
  },
  {
   "cell_type": "code",
   "execution_count": 57,
   "metadata": {},
   "outputs": [],
   "source": [
    "def get_data_batch(client: bigquery.Client,limit:int, offset:int) -> pd.DataFrame:\n",
    "    \n",
    "    print(\"Fetching Data\")\n",
    "    \n",
    "    sql_query = (f\"select * from {RFM_TABLE} limit {limit} offset {offset}\")\n",
    "    \n",
    "    df = client.query(sql_query).to_dataframe().set_index('customer_id')\n",
    "    \n",
    "    return df\n"
   ]
  },
  {
   "cell_type": "code",
   "execution_count": 58,
   "metadata": {},
   "outputs": [],
   "source": [
    "def compute_kpi(data:pd.DataFrame) -> pd.DataFrame:\n",
    "\n",
    "    #Generating CLTV Values\n",
    "    cltv_values=ggf.customer_lifetime_value(\n",
    "                    pnf, #the model to use to predict the number of future transactions\n",
    "                    data['frequency'],\n",
    "                    data['recency'],\n",
    "                    data['T'],\n",
    "                    data['monetary_value'],\n",
    "                    time=CLTV_PERIOD, # months\n",
    "                    discount_rate=0.00) \n",
    "    cltv_values.name=\"CUST_LIFETIME_VAL_12MO\"\n",
    "\n",
    "    \"\"\"Generating future expected number of purchase, Here t is in periods which is measured in dates\"\"\"\n",
    "    cltv_future_purchase=pnf.conditional_expected_number_of_purchases_up_to_time(CLTV_EXPECTED_TRIPS_PERIOD,data['frequency'], data['recency'], data['T'])\n",
    "    cltv_future_purchase.name=\"FREQ_FUTURE_12MO_PURCHASE\"\n",
    "\n",
    "\n",
    "    \"\"\"Generating conditional probabilty of being alive,It calculates the probability of a customer being currently alive or not\"\"\"\n",
    "    cltv_prob_alive=pnf.conditional_probability_alive(data['frequency'], data['recency'], data['T'])\n",
    "    cltv_prob_alive.name=\"PROB_ALIVE\"\n",
    "\n",
    "    return pd.concat([cltv_values,cltv_prob_alive,cltv_future_purchase],axis=1)\n"
   ]
  },
  {
   "cell_type": "code",
   "execution_count": 59,
   "metadata": {
    "colab": {
     "base_uri": "https://localhost:8080/"
    },
    "id": "f_6MkXcQQIMR",
    "outputId": "518c62cf-f5a5-4729-ca64-0131d1ccfa1d"
   },
   "outputs": [],
   "source": [
    "def save_metric_bq(data:pd.DataFrame,method:str):\n",
    "    print(\"Saving computed KPI's to bigquery\")\n",
    "\n",
    "    table_id=f\"{PREDICTIONS_TABLE}\"\n",
    "    pandas_gbq.to_gbq(data.round(2).reset_index(), table_id, project_id=PROJECT_NAME,if_exists=method)\n",
    "    \n",
    "def batch_prediction():\n",
    "    for key,value in batches.items():\n",
    "\n",
    "        #Loading the data\n",
    "        df=get_data_batch(client,value['limit'],value['offset'])  \n",
    "\n",
    "        #computing KPI's for next 12 months\n",
    "        df=compute_kpi(df)\n",
    "\n",
    "        #adding timestamp to the dataframe\n",
    "        f = '%Y-%m-%d %H:%M:%S'\n",
    "        timestamp_now = datetime.datetime.now().strftime(f)\n",
    "        df['timestamp']=timestamp_now\n",
    "\n",
    "        # This if block denotes, whether we want to replace the existing table if exist or append\n",
    "        if value['offset']==0:\n",
    "            save_metric_bq(df,'replace')\n",
    "        else:\n",
    "            save_metric_bq(df,'append')\n",
    "    print(\"Batch Prediction Completed\")"
   ]
  },
  {
   "cell_type": "code",
   "execution_count": 62,
   "metadata": {},
   "outputs": [
    {
     "name": "stdout",
     "output_type": "stream",
     "text": [
      "Fetching Data\n",
      "Saving computed KPI's to bigquery\n"
     ]
    },
    {
     "name": "stderr",
     "output_type": "stream",
     "text": [
      "100%|██████████| 1/1 [00:00<00:00, 2186.81it/s]"
     ]
    },
    {
     "name": "stdout",
     "output_type": "stream",
     "text": [
      "Batch Prediction Completed\n"
     ]
    },
    {
     "name": "stderr",
     "output_type": "stream",
     "text": [
      "\n"
     ]
    }
   ],
   "source": [
    "batch_prediction()"
   ]
  },
  {
   "cell_type": "code",
   "execution_count": null,
   "metadata": {},
   "outputs": [],
   "source": []
  }
 ],
 "metadata": {
  "colab": {
   "collapsed_sections": [],
   "name": "Big query cltv pipeline.ipynb",
   "provenance": []
  },
  "kernelspec": {
   "display_name": "Python [conda env:root] * (Local)",
   "language": "python",
   "name": "local-conda-root-base"
  },
  "language_info": {
   "codemirror_mode": {
    "name": "ipython",
    "version": 3
   },
   "file_extension": ".py",
   "mimetype": "text/x-python",
   "name": "python",
   "nbconvert_exporter": "python",
   "pygments_lexer": "ipython3",
   "version": "3.7.12"
  }
 },
 "nbformat": 4,
 "nbformat_minor": 4
}
